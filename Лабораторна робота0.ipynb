{
  "nbformat": 4,
  "nbformat_minor": 0,
  "metadata": {
    "colab": {
      "provenance": []
    },
    "kernelspec": {
      "name": "python3",
      "display_name": "Python 3"
    },
    "language_info": {
      "name": "python"
    }
  },
  "cells": [
    {
      "cell_type": "code",
      "execution_count": null,
      "metadata": {
        "id": "_8BGj-sYXXYS",
        "colab": {
          "base_uri": "https://localhost:8080/"
        },
        "outputId": "e76fda3a-47cb-4f8a-9b17-f739d54ff229"
      },
      "outputs": [
        {
          "output_type": "stream",
          "name": "stdout",
          "text": [
            "Введіть перше число: 5\n",
            "Введіть друге число: 10\n",
            "Сума чисел: 15\n",
            "Різниця чисел: -5\n",
            "Добуток чисел: 50\n",
            "Частка чисел: 0.5\n"
          ]
        }
      ],
      "source": [
        "\n",
        "first_number = int(input('Введіть перше число: '))\n",
        "\n",
        "second_number = int(input('Введіть друге число: '))\n",
        "\n",
        "sum_result = first_number + second_number\n",
        "print(\"Сума чисел:\", sum_result)\n",
        "\n",
        "difference_result = first_number - second_number\n",
        "print(\"Різниця чисел:\", difference_result)\n",
        "\n",
        "product_result = first_number * second_number\n",
        "print(\"Добуток чисел:\", product_result)\n",
        "\n",
        "if second_number != 0:\n",
        "    quotient_result = first_number / second_number\n",
        "    print(\"Частка чисел:\", quotient_result)\n",
        "else:\n",
        "    print(\"Ділення на нуль неможливе.\")\n"
      ]
    },
    {
      "cell_type": "code",
      "source": [
        "\n",
        "distance_km = 305.3\n",
        "\n",
        "conversion_factor = 1 / 1.60934\n",
        "\n",
        "distMiles = distance_km * conversion_factor\n",
        "\n",
        "distMiles = round(distMiles, 1)\n",
        "\n",
        "print(\"Відстань між Києвом та Полтавою у милях:\", distMiles)\n"
      ],
      "metadata": {
        "colab": {
          "base_uri": "https://localhost:8080/"
        },
        "id": "1ac1vuORrIwV",
        "outputId": "0cc0a81c-d4db-451d-dcf3-9a699b21be6c"
      },
      "execution_count": null,
      "outputs": [
        {
          "output_type": "stream",
          "name": "stdout",
          "text": [
            "Відстань між Києвом та Полтавою у милях: 189.7\n"
          ]
        }
      ]
    },
    {
      "cell_type": "code",
      "source": [
        "from math import sqrt,pi\n",
        "S = float(input('Введіть площу кола: '))\n",
        "r = sqrt(S/pi)\n",
        "print ('Радіус дорівнює %6.3f см' %r)"
      ],
      "metadata": {
        "colab": {
          "base_uri": "https://localhost:8080/"
        },
        "id": "rARGeXYZrZBU",
        "outputId": "6878c922-d483-4b05-c119-26126edf31f2"
      },
      "execution_count": null,
      "outputs": [
        {
          "output_type": "stream",
          "name": "stdout",
          "text": [
            "Введіть площу кола: 6\n",
            "Радіус дорівнює  1.382 см\n"
          ]
        }
      ]
    },
    {
      "cell_type": "code",
      "source": [
        "import math\n",
        "\n",
        "radius = 5\n",
        "\n",
        "surface_area = 4 * math.pi * radius**2\n",
        "\n",
        "volume = (4/3) * math.pi * radius**3\n",
        "\n",
        "print(f\"Площа поверхні сфери з радіусом {radius} одиниць: {surface_area:.2f} квадратних одиниць\")\n",
        "print(f\"Об'єм кулі з радіусом {radius} одиниць: {volume:.2f} кубічних одиниць\")\n"
      ],
      "metadata": {
        "colab": {
          "base_uri": "https://localhost:8080/"
        },
        "id": "uPYDuTWIrrkR",
        "outputId": "f2f661ca-cd7a-437e-de70-53b1af035068"
      },
      "execution_count": null,
      "outputs": [
        {
          "output_type": "stream",
          "name": "stdout",
          "text": [
            "Площа поверхні сфери з радіусом 5 одиниць: 314.16 квадратних одиниць\n",
            "Об'єм кулі з радіусом 5 одиниць: 523.60 кубічних одиниць\n"
          ]
        }
      ]
    },
    {
      "cell_type": "code",
      "source": [
        "\n",
        "fahrenheit = float(input('Введіть температуру в градусах Фаренгейта: '))\n",
        "\n",
        "celsius = (fahrenheit - 32) * 0.5556\n",
        "\n",
        "print(f\"{fahrenheit:.2f} градусів Фаренгейта дорівнює {celsius:.2f} градусів Цельсія\")\n",
        "\n",
        "celsius = float(input('Введіть температуру в градусах Цельсія: '))\n",
        "\n",
        "fahrenheit = (celsius * 1.8) + 32\n",
        "\n",
        "print(f\"{celsius:.2f} градусів Цельсія дорівнює {fahrenheit:.2f} градусів Фаренгейта\")"
      ],
      "metadata": {
        "colab": {
          "base_uri": "https://localhost:8080/"
        },
        "id": "2Bd7tV7ZsYAB",
        "outputId": "89ce4d7d-1311-4574-e972-4c7f6de3dbab"
      },
      "execution_count": null,
      "outputs": [
        {
          "output_type": "stream",
          "name": "stdout",
          "text": [
            "Введіть температуру в градусах Фаренгейта: 6\n",
            "6.00 градусів Фаренгейта дорівнює -14.45 градусів Цельсія\n",
            "Введіть температуру в градусах Цельсія: 90\n",
            "90.00 градусів Цельсія дорівнює 194.00 градусів Фаренгейта\n"
          ]
        }
      ]
    }
  ]
}